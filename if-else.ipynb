{
 "cells": [
  {
   "cell_type": "code",
   "execution_count": 1,
   "metadata": {},
   "outputs": [
    {
     "name": "stdout",
     "output_type": "stream",
     "text": [
      "a is greater than b by more than  10\n"
     ]
    }
   ],
   "source": [
    "a=20\n",
    "b=8\n",
    "if a<b:\n",
    "    print('a is small')\n",
    "elif a==b:\n",
    "    print('a is equal to b')\n",
    "elif a > b + 10:\n",
    "    print('a is greater than b by more than  10')\n",
    "else:\n",
    "    print('b is small')"
   ]
  },
  {
   "cell_type": "code",
   "execution_count": 2,
   "metadata": {},
   "outputs": [
    {
     "name": "stdout",
     "output_type": "stream",
     "text": [
      "h is small\n"
     ]
    }
   ],
   "source": [
    "g=8\n",
    "h=5\n",
    "if g<h:\n",
    "    print(\"g is small\")\n",
    "else:\n",
    "    if g==h:\n",
    "        print(\"g is equal to h\")\n",
    "    else:\n",
    "        print(\"h is small\")"
   ]
  },
  {
   "cell_type": "code",
   "execution_count": 5,
   "metadata": {},
   "outputs": [
    {
     "ename": "SyntaxError",
     "evalue": "invalid syntax (<ipython-input-5-922f3b06e87b>, line 4)",
     "output_type": "error",
     "traceback": [
      "\u001b[1;36m  File \u001b[1;32m\"<ipython-input-5-922f3b06e87b>\"\u001b[1;36m, line \u001b[1;32m4\u001b[0m\n\u001b[1;33m    total=print(\"total marks is:\"maths+english+hindi)\u001b[0m\n\u001b[1;37m                                     ^\u001b[0m\n\u001b[1;31mSyntaxError\u001b[0m\u001b[1;31m:\u001b[0m invalid syntax\n"
     ]
    }
   ],
   "source": [
    "maths=print(\"enter the marks for maths:\")\n",
    "english=print(\"enter the marks for english:\")\n",
    "hindi=print(\"enter the marks for hindi:\")\n",
    "#total=print(\"total marks is:\"maths+english+hindi)\n",
    "average=total/3\n",
    "percentage=total/300*100\n",
    "print(total)\n",
    "print(average)\n",
    "print(percentage)\n",
    "if percentage<75:\n",
    "    print(\"better luck next time\")\n",
    "else:\n",
    "    print(\"congratulations\")\n",
    "    "
   ]
  },
  {
   "cell_type": "code",
   "execution_count": null,
   "metadata": {},
   "outputs": [],
   "source": []
  }
 ],
 "metadata": {
  "kernelspec": {
   "display_name": "Python 3",
   "language": "python",
   "name": "python3"
  },
  "language_info": {
   "codemirror_mode": {
    "name": "ipython",
    "version": 3
   },
   "file_extension": ".py",
   "mimetype": "text/x-python",
   "name": "python",
   "nbconvert_exporter": "python",
   "pygments_lexer": "ipython3",
   "version": "3.6.5"
  }
 },
 "nbformat": 4,
 "nbformat_minor": 2
}
